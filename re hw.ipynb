{
 "cells": [
  {
   "cell_type": "code",
   "execution_count": 1,
   "id": "2bb39eba",
   "metadata": {},
   "outputs": [],
   "source": [
    "import re\n",
    "import matplotlib.pylab as plt"
   ]
  },
  {
   "cell_type": "markdown",
   "id": "cc76a03f",
   "metadata": {},
   "source": [
    "1. Распарсите файл references при помощи регулярных выражений и запишите оттуда все ftp ссылки в файл ftps\n",
    "https://raw.githubusercontent.com/Serfentum/bf_course/master/15.re/references\n",
    "\n",
    "    Об ftp ссылках\n",
    "    https://en.wikipedia.org/wiki/File_Transfer_Protocol#Syntax\n"
   ]
  },
  {
   "cell_type": "code",
   "execution_count": 3,
   "id": "ef464e6b",
   "metadata": {},
   "outputs": [],
   "source": [
    "with open(\"references.txt\", \"r\") as ref:\n",
    "    ftps = []\n",
    "    while True:\n",
    "        line = ref.readline()\n",
    "        ftps += re.findall('(?:(?:ftp):\\/\\/)?[\\w/\\-?=%.#]+\\.[\\w/\\-&?=%.]+', line)\n",
    "        if not line:\n",
    "            break\n",
    "    with open(\"ftps.txt\", \"w+\") as out:\n",
    "        for ss in ftps:\n",
    "            out.write(ss)\n",
    "            out.write(\"\\n\")"
   ]
  },
  {
   "cell_type": "markdown",
   "id": "2947e579",
   "metadata": {},
   "source": [
    "2. Извлеките из рассказа  2430 A.D. все числа\n",
    "https://raw.githubusercontent.com/Serfentum/bf_course/master/15.re/2430AD"
   ]
  },
  {
   "cell_type": "code",
   "execution_count": 4,
   "id": "ce34ce45",
   "metadata": {},
   "outputs": [],
   "source": [
    "with open(\"2430AD.txt\", \"r\") as ad:\n",
    "    numbers = []\n",
    "    while True:\n",
    "        line = ad.readline()\n",
    "        numbers += re.findall(r\"([0-9][-.\\w]*)\", line)\n",
    "        if not line:\n",
    "            break\n",
    "    with open(\"numbers_ad.txt\", \"w+\") as out:\n",
    "        for number in numbers:\n",
    "            out.write(number)\n",
    "            out.write(\"\\n\")"
   ]
  },
  {
   "cell_type": "markdown",
   "id": "79fffdf7",
   "metadata": {},
   "source": [
    "3. Из того же рассказа извлеките все слова, в которых есть буква a, регистр при этом не важен"
   ]
  },
  {
   "cell_type": "code",
   "execution_count": 5,
   "id": "b663fab9",
   "metadata": {},
   "outputs": [],
   "source": [
    "with open(\"2430AD.txt\", \"r\") as ad:\n",
    "    awords = []\n",
    "    while True:\n",
    "        line = ad.readline()\n",
    "        awords += re.findall(r\"\\w*[aA]\\w*\", line)\n",
    "        if not line:\n",
    "            break\n",
    "    with open(\"awords.txt\", \"w+\") as out:\n",
    "        for aword in awords:\n",
    "            out.write(aword)\n",
    "            out.write(\"\\n\")"
   ]
  },
  {
   "cell_type": "markdown",
   "id": "9a10b094",
   "metadata": {},
   "source": [
    "4. Извлеките из рассказа все восклицательные предложения"
   ]
  },
  {
   "cell_type": "code",
   "execution_count": 6,
   "id": "bb015a23",
   "metadata": {},
   "outputs": [],
   "source": [
    "with open(\"2430AD.txt\", \"r\") as ad:\n",
    "    excls = []\n",
    "    while True:\n",
    "        line = ad.readline()\n",
    "        excls += re.findall(r\"[\\w\\s]*\\!+\", line)\n",
    "        if not line:\n",
    "            break\n",
    "    with open(\"excl.txt\", \"w+\") as out:\n",
    "        for excl in excls:\n",
    "            out.write(excl)\n",
    "            out.write(\"\\n\")"
   ]
  },
  {
   "cell_type": "markdown",
   "id": "b176a53d",
   "metadata": {},
   "source": [
    "5. Постройте гистограмму распределения длин уникальных слов (без учёта регистра, длина от 1) в тексте. То есть по оси x идёт длина слова. По оси y идёт доля слов с такой длиной среди уникальных слов, найденных в тексте. При этом слова the и The считаются одним словом, то есть регистр не важен\n"
   ]
  },
  {
   "cell_type": "code",
   "execution_count": 10,
   "id": "d886ab84",
   "metadata": {},
   "outputs": [
    {
     "data": {
      "image/png": "[encoded data removed]",
      "text/plain": [
       "<Figure size 432x288 with 1 Axes>"
      ]
     },
     "metadata": {
      "needs_background": "light"
     },
     "output_type": "display_data"
    }
   ],
   "source": [
    "with open(\"2430AD.txt\", \"r\") as ad:\n",
    "    words = []\n",
    "    wordslen = {}\n",
    "    while True:\n",
    "        line = ad.readline()\n",
    "        line_new = re.sub(r\"[.\\!\\?\\:,()\\\"-]+\", \"\", line)\n",
    "        for word in line_new.lower().split(\" \"):\n",
    "            if word not in words:\n",
    "                words += [word]\n",
    "                if len(word) not in wordslen:\n",
    "                    wordslen[len(word)] = 1\n",
    "                else:\n",
    "                    wordslen[len(word)] += 1\n",
    "        if not line:\n",
    "            break\n",
    "plt.bar(list(wordslen.keys()), wordslen.values(), color='m')\n",
    "plt.title(\"Unique words lengths distribution\", weight='bold', style = 'italic', size = 17)\n",
    "plt.xlabel(\"word length\", weight='bold', style = 'italic')\n",
    "plt.ylabel(\"Word quantity\", style = 'italic', weight='bold')\n",
    "plt.show()   "
   ]
  },
  {
   "cell_type": "markdown",
   "id": "01c73683",
   "metadata": {},
   "source": [
    "6. Сделайте функцию-переводчик с русского на \"кирпичный язык\"\n",
    "https://yandex.ru/q/question/kirpichnyi_iazyk_kak_govorit_cc88f9dc/"
   ]
  },
  {
   "cell_type": "code",
   "execution_count": 15,
   "id": "33481673",
   "metadata": {},
   "outputs": [
    {
     "data": {
      "text/plain": [
       "'укушакай, ака локовкоко тыкы экэтоко прикидукумакал, якя дакажеке снакачакалака неке поконякял'"
      ]
     },
     "execution_count": 15,
     "metadata": {},
     "output_type": "execute_result"
    }
   ],
   "source": [
    "stri = 'Слушай, а ловко ты это придумал, я даже сначала не понял' \n",
    "def brick_translator(stroka):\n",
    "    replacements = {\"э\": \"экэ\", \"е\": \"еке\", \"ы\": \"ыкы\", \n",
    "                \"а\": \"ака\", \"у\": \"уку\", \"я\": \"якя\", \n",
    "                \"и\": \"ики\", \"ю\": \"юкю\", \"о\": \"око\"}\n",
    "    def func(matchobj): return replacements.get(matchobj.group(), \"\")\n",
    "    return re.sub(\"[уеыаоэяию]\", func, stroka.lower(), flags=re.IGNORECASE)\n",
    "brick_translator(stri)"
   ]
  },
  {
   "cell_type": "markdown",
   "id": "83ef2fc7",
   "metadata": {},
   "source": [
    "7. Сделайте функцию для извлечения из текста предложений с заданным количеством слов (предлоги и союзы считаем за слова).   \n",
    "Функция должна принимать 2 аргумента: текст в виде строки и кол-во слов в предложении. Функция должна возвращать список кортежей, каждый из которых содержит отдельные слова из найденных предложений. Например, find_n_words_sentences(\"Здесь три слова. Здесь тоже три\", 3) -> [(\"Здесь\", \"три\", \"слова\"), (\"Здесь\", \"тоже\", \"три\")]"
   ]
  },
  {
   "cell_type": "code",
   "execution_count": 7,
   "id": "fd249dc4",
   "metadata": {},
   "outputs": [
    {
     "data": {
      "text/plain": [
       "[('Their',\n",
       "  'footsteps',\n",
       "  'were',\n",
       "  'muted',\n",
       "  'against',\n",
       "  'the',\n",
       "  'plastic-knit',\n",
       "  'crushed',\n",
       "  'rock',\n",
       "  'underfoot'),\n",
       " ('There',\n",
       "  'was',\n",
       "  'a',\n",
       "  'fugitive',\n",
       "  'whiff',\n",
       "  'of',\n",
       "  'plankton',\n",
       "  'in',\n",
       "  'its',\n",
       "  'varieties')]"
      ]
     },
     "execution_count": 7,
     "metadata": {},
     "output_type": "execute_result"
    }
   ],
   "source": [
    "def find_n_words_sentences(stroka, n):\n",
    "    sentences = re.split('[?!.][\\s]*',stroka)\n",
    "    splitted = []\n",
    "    for sntnce in sentences:\n",
    "        if len(sntnce.split(\" \")) == n:\n",
    "            splitted += [tuple(sntnce.split(\" \"))]\n",
    "    return splitted\n",
    "    \n",
    "find_n_words_sentences(\"Their footsteps were muted against the plastic-knit crushed rock underfoot. They passed crosscorridors and saw the endless crowds on the Moving Strips in the middle distance. There was a fugitive whiff of plankton in its varieties. Once, almost by instinct, they could tell that up above, far above, was one of the giant conduits leading in from the sea. And by symmetry they knew there would be another conduit, just as large, far below, leading out to sea.\", 10)"
   ]
  }
 ],
 "metadata": {
  "kernelspec": {
   "display_name": "Python 3 (ipykernel)",
   "language": "python",
   "name": "python3"
  },
  "language_info": {
   "codemirror_mode": {
    "name": "ipython",
    "version": 3
   },
   "file_extension": ".py",
   "mimetype": "text/x-python",
   "name": "python",
   "nbconvert_exporter": "python",
   "pygments_lexer": "ipython3",
   "version": "3.9.5"
  }
 },
 "nbformat": 4,
 "nbformat_minor": 5
}
