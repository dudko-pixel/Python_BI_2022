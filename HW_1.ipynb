{
 "cells": [
  {
   "cell_type": "markdown",
   "id": "7c5a538f-2dbe-445c-9f46-cf0dc18867e4",
   "metadata": {},
   "source": [
    "# Задание 1 (5 баллов)"
   ]
  },
  {
   "cell_type": "markdown",
   "id": "1e8cc3b0-6f60-40da-8058-30d9eb434daf",
   "metadata": {},
   "source": [
    "Напишите классы **Chat**, **Message** и **User**. Они должны соответствовать следующим требованиям:\n",
    "\n",
    "**Chat**:\n",
    "+ Должен иметь атрибут `chat_history`, где будут храниться все сообщения (`Message`) в обратном хронологическом порядке (сначала новые, затем старые)\n",
    "+ Должен иметь метод `show_last_message`, выводящий на экран информацию о последнем сообщении\n",
    "+ Должен иметь метод `get_history_from_time_period`, который принимает два опциональных аргумента (даты с которой и по какую мы ищем сообщения и выдаём их). Метод также должен возвращать объект типа `Chat`\n",
    "+ Должен иметь метод `show_chat`, выводящий на экран все сообщения (каждое сообщение в таком же виде как и `show_last_message`, но с разделителем между ними)\n",
    "+ Должен иметь метод `recieve`, который будет принимать сообщение и добавлять его в чат\n",
    "\n",
    "**Message**:\n",
    "+ Должен иметь три обязательных атрибута\n",
    "    + `text` - текст сообщения\n",
    "    + `datetime` - дата и время сообщения (встроенный модуль datetime вам в помощь). Важно! Это должна быть не дата создания сообщения, а дата его попадания в чат! \n",
    "    + `user` - информация о пользователе, который оставил сообщение (какой тип данных использовать здесь, разберётесь сами)\n",
    "+ Должен иметь метод `show`, который печатает или возвращает информацию о сообщении с необходимой информацией (дата, время, юзер, текст)\n",
    "+ Должен иметь метод `send`, который будет отправлять сообщение в чат\n",
    "\n",
    "**User**:\n",
    "+ Класс с информацией о юзере, наполнение для этого класса придумайте сами\n",
    "\n",
    "Напишите несколько примеров использования кода, которое показывает взаимодействие между объектами.\n",
    "\n",
    "В тексте задания намерено не указано, какие аргументы должны принимать методы, пускай вам в этом поможет здравый смысл)\n",
    "\n",
    "В этом задании не стоит флексить всякими продвинутыми штуками, для этого есть последующие\n",
    "\n",
    "В этом задании можно использовать только модуль `datetime`"
   ]
  },
  {
   "cell_type": "code",
   "execution_count": 291,
   "id": "d14ce6ca-7294-492c-8a01-3f7547680474",
   "metadata": {},
   "outputs": [],
   "source": [
    "from datetime import datetime, date\n",
    "\n",
    "class Chat:\n",
    "    def __init__(self):\n",
    "        self.chat_history = []\n",
    "        \n",
    "    def show_last_message(self):\n",
    "        print(self.chat_history[0])\n",
    "    \n",
    "    def get_history_from_time_period(self, from_time, to_time):\n",
    "        period_start = datetime.strptime(from_time)\n",
    "        period_end = datetime.strptime(to_time)\n",
    "\n",
    "        history_period = [m for m in self.chat_history if datetime.strptime(m.datetime) >= period_start and datetime.strptime(m.datetime) <= period_end]\n",
    "\n",
    "        return Chat(history_period)\n",
    "    \n",
    "    def show_chat(self):\n",
    "        for message in self.chat_history[::-1]:\n",
    "            message.show()\n",
    "            print()\n",
    "            \n",
    "    def recieve(self, message):\n",
    "        self.chat_history = [message] + self.chat_history\n",
    "\n",
    "class Message:\n",
    "    # Ваш код здесь\n",
    "    def __init__(self, text, user):\n",
    "        self.text = text\n",
    "        self.datetime = datetime\n",
    "        self.user = user\n",
    "        \n",
    "    def show(self):\n",
    "        print(self.user.show_name(), str(self.datetime), '\\n', self.text, '\\n________________\\n')\n",
    "    \n",
    "    def send(self, chat):\n",
    "        self.datetime = datetime.now()\n",
    "        chat.recieve(self)\n",
    "\n",
    "class User:\n",
    "    # Ваш код здесь\n",
    "    def __init__(self, nickname, greeting):\n",
    "        self.nickname = nickname\n",
    "        self.greeting = greeting\n",
    "    def show_name(self):\n",
    "        return self.nickname"
   ]
  },
  {
   "cell_type": "code",
   "execution_count": 292,
   "id": "5bbbd9c9",
   "metadata": {},
   "outputs": [],
   "source": [
    "chatik = Chat()"
   ]
  },
  {
   "cell_type": "code",
   "execution_count": 283,
   "id": "54d6f4ac",
   "metadata": {},
   "outputs": [],
   "source": [
    "Poirot = User('Poirot', 'Bonjour')\n",
    "Hastings = User('Hastings', 'Good day!')"
   ]
  },
  {
   "cell_type": "code",
   "execution_count": 293,
   "id": "ac0d39bb",
   "metadata": {},
   "outputs": [],
   "source": [
    "Poirot_message = Message('There are many things not called poison which can kill a man', Poirot).send(chatik)\n",
    "Hastings_message = Message('Jesus, Mary and Joseph and the wee donkey!', Hastings).send(chatik)"
   ]
  },
  {
   "cell_type": "code",
   "execution_count": 294,
   "id": "082d533f",
   "metadata": {},
   "outputs": [
    {
     "name": "stdout",
     "output_type": "stream",
     "text": [
      "Poirot 2023-02-24 07:01:35.761539 \n",
      " There are many things not called poison which can kill a man \n",
      "________________\n",
      "\n",
      "\n",
      "Hastings 2023-02-24 07:01:35.761741 \n",
      " Jesus, Mary and Joseph and the wee donkey! \n",
      "________________\n",
      "\n",
      "\n"
     ]
    }
   ],
   "source": [
    "chatik.show_chat()"
   ]
  },
  {
   "cell_type": "markdown",
   "id": "a59aa1b3-4c93-480e-a09f-e57df34eb60a",
   "metadata": {},
   "source": [
    "# Задание 2 (3 балла)"
   ]
  },
  {
   "cell_type": "markdown",
   "id": "ab07eb69-877f-4c38-8c7d-88beae20071b",
   "metadata": {},
   "source": [
    "В питоне как-то слишком типично и неинтересно происходят вызовы функций. Напишите класс `Args`, который будет хранить в себе аргументы, а функции можно будет вызывать при помощи следующего синтаксиса.\n",
    "\n",
    "Использовать любые модули **нельзя**, да и вряд-ли это как-то поможет)"
   ]
  },
  {
   "cell_type": "code",
   "execution_count": 88,
   "id": "d73d6b31-c15a-4ae6-ad9b-b3fdab88efed",
   "metadata": {},
   "outputs": [],
   "source": [
    "class Args:\n",
    "    def __init__(self, *args, **kwargs):\n",
    "        self.args = args\n",
    "        self.kwargs = kwargs\n",
    "    \n",
    "    def __rlshift__(self, other):\n",
    "        return other(*self.args, **self.kwargs)"
   ]
  },
  {
   "cell_type": "code",
   "execution_count": 89,
   "id": "55afedbb-4725-4078-bd98-bf803be0bf93",
   "metadata": {},
   "outputs": [
    {
     "data": {
      "text/plain": [
       "3"
      ]
     },
     "execution_count": 89,
     "metadata": {},
     "output_type": "execute_result"
    }
   ],
   "source": [
    "sum << Args([1, 2])"
   ]
  },
  {
   "cell_type": "code",
   "execution_count": 90,
   "id": "c37f0728-9bdc-469e-a5b8-3ab5aa43a731",
   "metadata": {},
   "outputs": [
    {
     "data": {
      "text/plain": [
       "53"
      ]
     },
     "execution_count": 90,
     "metadata": {},
     "output_type": "execute_result"
    }
   ],
   "source": [
    "(lambda a, b, c: a**2 + b + c) << Args(1, 2, c=50)"
   ]
  },
  {
   "cell_type": "markdown",
   "id": "d6915eaf-92fe-460b-bf9b-06ccf55b093f",
   "metadata": {},
   "source": [
    "# Задание 3 (5 баллов)"
   ]
  },
  {
   "cell_type": "markdown",
   "id": "5a588ef8-8af6-42b6-972b-3c716a604c34",
   "metadata": {},
   "source": [
    "Сделайте класс наследник `float`. Он должен вести себя как `float`, но также должен обладать некоторыми особенностями:\n",
    "+ При получении атрибутов формата `<действие>_<число>` мы получаем результат такого действия над нашим числом\n",
    "+ Создавать данные атрибуты в явном виде, очевидно, не стоит\n",
    "\n",
    "Подсказка: если в процессе гуглёжки, вы выйдете на такую тему как **\"Дескрипторы\", то это НЕ то, что вам сейчас нужно**\n",
    "\n",
    "Примеры использования ниже"
   ]
  },
  {
   "cell_type": "code",
   "execution_count": 163,
   "id": "61cb63a2-90ac-4b79-97a5-bb0496262e32",
   "metadata": {},
   "outputs": [],
   "source": [
    "class StrangeFloat(float):\n",
    "    def __getattribute__(self, item):\n",
    "        if '__' not in item:\n",
    "            operation, value = item.split('_')\n",
    "            if operation == 'add':\n",
    "                    return type(self)(self + float(value))\n",
    "            elif operation == 'subtract':\n",
    "                    return type(self)(self - float(value))\n",
    "            elif operation == 'multiply':\n",
    "                    return type(self)(self * float(value))\n",
    "            elif operation == 'divide':\n",
    "                    return type(self)(self / float(value))\n",
    "            else:\n",
    "                raise AttributeError"
   ]
  },
  {
   "cell_type": "code",
   "execution_count": 164,
   "id": "6399fbd0",
   "metadata": {},
   "outputs": [],
   "source": [
    "number = StrangeFloat(3.5)"
   ]
  },
  {
   "cell_type": "code",
   "execution_count": 165,
   "id": "b2756368-a489-486d-a0f1-244697f8503c",
   "metadata": {},
   "outputs": [
    {
     "data": {
      "text/plain": [
       "4.5"
      ]
     },
     "execution_count": 165,
     "metadata": {},
     "output_type": "execute_result"
    }
   ],
   "source": [
    "number.add_1"
   ]
  },
  {
   "cell_type": "code",
   "execution_count": 166,
   "id": "c6799592-3cb6-4c7d-af62-9c0a48a76c1d",
   "metadata": {},
   "outputs": [
    {
     "data": {
      "text/plain": [
       "-16.5"
      ]
     },
     "execution_count": 166,
     "metadata": {},
     "output_type": "execute_result"
    }
   ],
   "source": [
    "number.subtract_20"
   ]
  },
  {
   "cell_type": "code",
   "execution_count": 167,
   "id": "130027b5-017a-4c70-b072-1fdc6acf670f",
   "metadata": {},
   "outputs": [
    {
     "data": {
      "text/plain": [
       "17.5"
      ]
     },
     "execution_count": 167,
     "metadata": {},
     "output_type": "execute_result"
    }
   ],
   "source": [
    "number.multiply_5"
   ]
  },
  {
   "cell_type": "code",
   "execution_count": 168,
   "id": "2b901e5c-5a51-4788-b15b-9b20a074e1a4",
   "metadata": {},
   "outputs": [
    {
     "data": {
      "text/plain": [
       "0.14"
      ]
     },
     "execution_count": 168,
     "metadata": {},
     "output_type": "execute_result"
    }
   ],
   "source": [
    "number.divide_25"
   ]
  },
  {
   "cell_type": "code",
   "execution_count": 169,
   "id": "ea52c492-b0ce-4d73-8aba-a0ea51ed0b60",
   "metadata": {},
   "outputs": [
    {
     "data": {
      "text/plain": [
       "-4.125"
      ]
     },
     "execution_count": 169,
     "metadata": {},
     "output_type": "execute_result"
    }
   ],
   "source": [
    "number.add_1.add_2.multiply_6.divide_8.subtract_9"
   ]
  },
  {
   "cell_type": "code",
   "execution_count": 170,
   "id": "e26ef411-a5df-46c7-bb9d-e77a1fad3cec",
   "metadata": {},
   "outputs": [
    {
     "data": {
      "text/plain": [
       "1.0"
      ]
     },
     "execution_count": 170,
     "metadata": {},
     "output_type": "execute_result"
    }
   ],
   "source": [
    "getattr(number, \"add_-2.5\")   # Используем getattr, так как не можем написать number.add_-2.5 - это SyntaxError"
   ]
  },
  {
   "cell_type": "code",
   "execution_count": 171,
   "id": "7a57bb29-1105-4df1-a4c4-5fbf62eef11d",
   "metadata": {},
   "outputs": [
    {
     "data": {
      "text/plain": [
       "11.5"
      ]
     },
     "execution_count": 171,
     "metadata": {},
     "output_type": "execute_result"
    }
   ],
   "source": [
    "number + 8   # Стандартные для float операции работают также"
   ]
  },
  {
   "cell_type": "code",
   "execution_count": 172,
   "id": "f0246b31-c55a-4bb8-ac15-46509bd8b340",
   "metadata": {},
   "outputs": [
    {
     "ename": "ValueError",
     "evalue": "too many values to unpack (expected 2)",
     "output_type": "error",
     "traceback": [
      "\u001b[1;31m---------------------------------------------------------------------------\u001b[0m",
      "\u001b[1;31mValueError\u001b[0m                                Traceback (most recent call last)",
      "Input \u001b[1;32mIn [172]\u001b[0m, in \u001b[0;36m<module>\u001b[1;34m\u001b[0m\n\u001b[1;32m----> 1\u001b[0m \u001b[43mnumber\u001b[49m\u001b[38;5;241;43m.\u001b[39;49m\u001b[43mas_integer_ratio\u001b[49m()\n",
      "Input \u001b[1;32mIn [163]\u001b[0m, in \u001b[0;36mStrangeFloat.__getattribute__\u001b[1;34m(self, item)\u001b[0m\n\u001b[0;32m      2\u001b[0m \u001b[38;5;28;01mdef\u001b[39;00m \u001b[38;5;21m__getattribute__\u001b[39m(\u001b[38;5;28mself\u001b[39m, item):\n\u001b[0;32m      3\u001b[0m     \u001b[38;5;28;01mif\u001b[39;00m \u001b[38;5;124m'\u001b[39m\u001b[38;5;124m__\u001b[39m\u001b[38;5;124m'\u001b[39m \u001b[38;5;129;01mnot\u001b[39;00m \u001b[38;5;129;01min\u001b[39;00m item:\n\u001b[1;32m----> 4\u001b[0m         operation, value \u001b[38;5;241m=\u001b[39m item\u001b[38;5;241m.\u001b[39msplit(\u001b[38;5;124m'\u001b[39m\u001b[38;5;124m_\u001b[39m\u001b[38;5;124m'\u001b[39m)\n\u001b[0;32m      5\u001b[0m         \u001b[38;5;28;01mif\u001b[39;00m operation \u001b[38;5;241m==\u001b[39m \u001b[38;5;124m'\u001b[39m\u001b[38;5;124madd\u001b[39m\u001b[38;5;124m'\u001b[39m:\n\u001b[0;32m      6\u001b[0m                 \u001b[38;5;28;01mreturn\u001b[39;00m \u001b[38;5;28mtype\u001b[39m(\u001b[38;5;28mself\u001b[39m)(\u001b[38;5;28mself\u001b[39m \u001b[38;5;241m+\u001b[39m \u001b[38;5;28mfloat\u001b[39m(value))\n",
      "\u001b[1;31mValueError\u001b[0m: too many values to unpack (expected 2)"
     ]
    }
   ],
   "source": [
    "number.as_integer_ratio()   # Стандартные для float операции работают также  (это встроенный метод float, писать его НЕ НАДО)"
   ]
  },
  {
   "cell_type": "markdown",
   "id": "3635bceb-723c-4b2f-82e3-269bd914c46c",
   "metadata": {},
   "source": [
    "# Задание 4 (3 балла)"
   ]
  },
  {
   "cell_type": "markdown",
   "id": "31d35f82-1e20-4bf5-b896-7b8163f8386f",
   "metadata": {},
   "source": [
    "В данном задании мы немного отдохнём и повеселимся. От вас требуется заменить в данном коде максимально возможное количество синтаксических конструкций на вызовы dunder методов, dunder атрибутов и dunder переменных.\n",
    "\n",
    "Маленькая заметка: полностью всё заменить невозможно. Например, `function()` можно записать как `function.__call__()`, но при этом мы всё ещё не избавляемся от скобочек, так что можно делать так до бесконечности `function.__call__.__call__.__call__.__call__.....__call__()` и при всём при этом мы ещё не избавляемся от `.` для доступа к атрибутам. В общем, замените всё, что получится, не закапываясь в повторы, как в приведённом примере. Чем больше разных методов вы найдёте и используете, тем лучше и тем выше будет балл\n",
    "\n",
    "Код по итогу дожен работать и печатать число **4420.0**, как в примере. Структуру кода менять нельзя, просто изменяем конструкции на синонимичные\n",
    "\n",
    "И ещё маленькая подсказка. Заменить здесь можно всё кроме:\n",
    "+ Конструкции `for ... in ...`:\n",
    "+ Синтаксиса создания лямбда функции\n",
    "+ Оператора присваивания `=`\n",
    "+ Конструкции `if-else`"
   ]
  },
  {
   "cell_type": "code",
   "execution_count": 78,
   "id": "5c432109",
   "metadata": {},
   "outputs": [
    {
     "name": "stdout",
     "output_type": "stream",
     "text": [
      "4420.0\n"
     ]
    }
   ],
   "source": [
    "import numpy as np\n",
    "\n",
    "\n",
    "matrix = []\n",
    "for idx in range(0, 100, 10):\n",
    "    matrix += [list(range(idx, idx + 10))]\n",
    "    \n",
    "selected_columns_indices = list(filter(lambda x: x in range(1, 5, 2), range(len(matrix))))\n",
    "selected_columns = map(lambda x: [x[col] for col in selected_columns_indices], matrix)\n",
    "\n",
    "arr = np.array(list(selected_columns))\n",
    "\n",
    "mask = arr[:, 1] % 3 == 0\n",
    "new_arr = arr[mask]\n",
    "\n",
    "product = new_arr @ new_arr.T\n",
    "\n",
    "if (product[0] < 1000).all() and (product[2] > 1000).any():\n",
    "    print(product.mean())"
   ]
  },
  {
   "cell_type": "code",
   "execution_count": 208,
   "id": "a87cff2a-7168-470d-b38f-1cb5a60ac0c4",
   "metadata": {},
   "outputs": [
    {
     "name": "stdout",
     "output_type": "stream",
     "text": [
      "4420.0\n"
     ]
    }
   ],
   "source": [
    "import numpy as np\n",
    "\n",
    "\n",
    "matrix = list.__call__()\n",
    "for idx in range(0, 100, 10):\n",
    "    matrix.__iadd__([list(range(idx, idx + 10))])\n",
    "    \n",
    "selected_columns_indices = list(filter(lambda x: x in range(1, 5, 2), range(matrix.__len__())))\n",
    "selected_columns = map(lambda x: [x.__getitem__(col) for col in selected_columns_indices], matrix)\n",
    "\n",
    "arr = np.array(list.__call__(selected_columns))\n",
    "\n",
    "mask = arr[:, 1].__mod__(3).__eq__(0)\n",
    "new_arr = arr.__getitem__(mask)\n",
    "\n",
    "\n",
    "product = new_arr.__matmul__(new_arr.transpose())\n",
    "\n",
    "if (product[0].__lt__(1000)).all().__and__((product.__getitem__(2).__gt__(1000)).any()):\n",
    "    print(product.mean().__str__())"
   ]
  },
  {
   "cell_type": "markdown",
   "id": "e90e5938-cabe-4ee1-9a88-73f25b3b67c3",
   "metadata": {},
   "source": [
    "# Задание 5 (10 баллов)"
   ]
  },
  {
   "cell_type": "markdown",
   "id": "0e58f6a8-7bb8-45f0-b14d-3bcd1f1ba5a9",
   "metadata": {},
   "source": [
    "Напишите абстрактный класс `BiologicalSequence`, который задаёт следующий интерфейс:\n",
    "+ Работа с функцией `len`\n",
    "+ Возможность получать элементы по индексу и делать срезы последовательности (аналогично строкам)\n",
    "+ Вывод на печать в удобном виде и возможность конвертации в строку\n",
    "+ Возможность проверить алфавит последовательности на корректность\n",
    "\n",
    "Напишите класс `NucleicAcidSequence`:\n",
    "+ Данный класс реализует интерфейс `BiologicalSequence`\n",
    "+ Данный класс имеет новый метод `complement`, возвращающий комплементарную последовательность\n",
    "+ Данный класс имеет новый метод `gc_content`, возвращающий GC-состав (без разницы, в процентах или в долях)\n",
    "\n",
    "Напишите классы наследники `NucleicAcidSequence`: `DNASequence` и `RNASequence`\n",
    "+ `DNASequence` должен иметь метод `transcribe`, возвращающий транскрибированную РНК-последовательность\n",
    "+ Данные классы не должны иметь <ins>публичных методов</ins> `complement` и метода для проверки алфавита, так как они уже должны быть реализованы в `NucleicAcidSequence`.\n",
    "\n",
    "Напишите класс `AminoAcidSequence`:\n",
    "+ Данный класс реализует интерфейс `BiologicalSequence`\n",
    "+ Добавьте этому классу один любой метод, подходящий по смыслу к аминокислотной последовательности. Например, метод для нахождения изоэлектрической точки, молекулярного веса и т.д.\n",
    "\n",
    "Комментарий по поводу метода `NucleicAcidSequence.complement`, так как я хочу, чтобы вы сделали его опредедённым образом:\n",
    "\n",
    "При вызове `dna.complement()` или условного `dna.check_alphabet()` должны будут вызываться соответствующие методы из `NucleicAcidSequence`. При этом, данный метод должен обладать свойством полиморфизма, иначе говоря, внутри `complement` не надо делать условия а-ля `if seuqence_type == \"DNA\": return self.complement_dna()`, это крайне не гибко. Данный метод должен опираться на какой-то общий интерфейс между ДНК и РНК. Создание экземпляров `NucleicAcidSequence` не подразумевается, поэтому код `NucleicAcidSequence(\"ATGC\").complement()` не обязан работать, а в идеале должен кидать исключение `NotImplementedError` при вызове от экземпляра `NucleicAcidSequence`\n",
    "\n",
    "Вся сложность задания в том, чтобы правильно организовать код. Если у вас есть повторяющийся код в сестринских классах или родительском и дочернем, значит вы что-то делаете не так.\n",
    "\n",
    "\n",
    "Маленькое замечание: По-хорошему, между классом `BiologicalSequence` и классами `NucleicAcidSequence` и `AminoAcidSequence`, ещё должен быть класс-прослойка, частично реализующий интерфейс `BiologicalSequence`, но его писать не обязательно, так как задание и так довольно большое (правда из-за этого у вас неминуемо возникнет повторяющийся код в классах `NucleicAcidSequence` и `AminoAcidSequence`)"
   ]
  },
  {
   "cell_type": "code",
   "execution_count": 73,
   "id": "f17d5d3f-9982-4271-a987-3af7bc071c42",
   "metadata": {},
   "outputs": [],
   "source": [
    "from abc import ABC, abstractmethod\n",
    "class BiologicalSequence(ABC):\n",
    "    def __init__(self, bioseq):\n",
    "        self.bioseq = bioseq\n",
    "        \n",
    "    def __len__(self):\n",
    "        return len(bioseq)\n",
    "\n",
    "    def __getitem__(self, idxs):\n",
    "        return self.bioseq[idxs]\n",
    "\n",
    "    def check_alphabet(self):\n",
    "        nuclds = ['A', 'T', 'G', 'C', 'U']\n",
    "        for letter in self.bioseq:\n",
    "            if letter not in nuclds:\n",
    "                return \"Oops, that's not a biological sequence! Try again, please (use only ATGCU)\"\n",
    "            \n",
    "class NucleicAcidSequence(BiologicalSequence):\n",
    "    def __init__(self, bioseq):\n",
    "        super().__init__(bioseq)\n",
    "        \n",
    "    def complement(self):\n",
    "        if type(self) == NucleicAcidSequence:\n",
    "            raise NotImplementedError('A wrong class or a wrong method?')\n",
    "        compl_pairs = {'A': 'T', \n",
    "                       'G': 'C', \n",
    "                       'T': 'A', \n",
    "                       'C': 'G', \n",
    "                       'U': 'A'}\n",
    "        compl_res = ''\n",
    "        for nucl in self.bioseq:\n",
    "            compl_res += compl_pairs[nucl]\n",
    "        return compl_res\n",
    "    \n",
    "    def gc_content(self):\n",
    "        return (bioseq.count(\"G\") + bioseq.count(\"C\")) / len(bioseq)\n",
    "\n",
    "class DNASequence(NucleicAcidSequence):\n",
    "    def __init__(self, bioseq):\n",
    "        \n",
    "        super().__init__(bioseq)\n",
    "    def transcribe(self):\n",
    "        return self.bioseq.replace(\"T\", \"U\")\n",
    "\n",
    "class RNASequence(NucleicAcidSequence):\n",
    "    pass\n",
    "\n",
    "class AminoAcidSequence(BiologicalSequence):\n",
    "    def __init__(self, bioseq):\n",
    "        \n",
    "        super().__init__(bioseq)\n",
    "    def check_aaalphabet(self):\n",
    "        aacids = 'ARNDBCEQZGHILKMFPSTWYV'\n",
    "        for letter in self.bioseq:\n",
    "            if letter not in aacids:\n",
    "                return \"Oops, that's not an aminoacid! Try again, please (use only ARNDBCEQZGHILKMFPSTWYV)\"\n",
    "            \n",
    "    def prot_weight_calculation(self):\n",
    "        aacid_weight = {'A': 89, 'C': 121, 'D': 133, 'E': 147, 'F': 165, \n",
    "                        'G': 75, 'H': 155, 'I': 131, 'K': 146, 'L': 131, \n",
    "                        'M': 149, 'N': 132, 'P': 115, 'Q': 146, 'R': 174, \n",
    "                        'S': 105, 'T': 119, 'V': 117, 'W': 204, 'Y': 181}\n",
    "        prot_weight = 0\n",
    "        for aa in self.bioseq:\n",
    "            prot_weight += aacid_weight[aa]\n",
    "        return prot_weight"
   ]
  },
  {
   "cell_type": "code",
   "execution_count": 77,
   "id": "b7479b17",
   "metadata": {},
   "outputs": [
    {
     "data": {
      "text/plain": [
       "\"Oops, that's not a biological sequence! Try again, please (use only ATGCU)\""
      ]
     },
     "execution_count": 77,
     "metadata": {},
     "output_type": "execute_result"
    }
   ],
   "source": [
    "DNASequence('ATAGACjAGT').check_alphabet()"
   ]
  },
  {
   "cell_type": "code",
   "execution_count": 30,
   "id": "fce60c5e",
   "metadata": {},
   "outputs": [],
   "source": [
    "DNASequence('ATAGACAGT').check_alphabet()"
   ]
  },
  {
   "cell_type": "code",
   "execution_count": 53,
   "id": "098cc381",
   "metadata": {},
   "outputs": [
    {
     "data": {
      "text/plain": [
       "'CGC'"
      ]
     },
     "execution_count": 53,
     "metadata": {},
     "output_type": "execute_result"
    }
   ],
   "source": [
    "DNASequence(\"ATCGCGATCG\")[2:5]\n"
   ]
  },
  {
   "cell_type": "code",
   "execution_count": 69,
   "id": "94415872",
   "metadata": {},
   "outputs": [],
   "source": [
    "DNA = DNASequence(\"ATCGCGATCG\")"
   ]
  },
  {
   "cell_type": "code",
   "execution_count": 70,
   "id": "e5f5ce3b",
   "metadata": {},
   "outputs": [],
   "source": [
    "DNA.check_alphabet()"
   ]
  },
  {
   "cell_type": "code",
   "execution_count": 72,
   "id": "8fc4de8f",
   "metadata": {},
   "outputs": [
    {
     "data": {
      "text/plain": [
       "'TACG'"
      ]
     },
     "execution_count": 72,
     "metadata": {},
     "output_type": "execute_result"
    }
   ],
   "source": [
    "NucleicAcidSequence(\"ATGC\").complement()"
   ]
  },
  {
   "cell_type": "code",
   "execution_count": 74,
   "id": "3705ea1e",
   "metadata": {},
   "outputs": [],
   "source": [
    "prot = AminoAcidSequence('ACDKWQ')"
   ]
  },
  {
   "cell_type": "code",
   "execution_count": 75,
   "id": "99afcc4a",
   "metadata": {},
   "outputs": [],
   "source": [
    "prot.check_aaalphabet()"
   ]
  },
  {
   "cell_type": "code",
   "execution_count": 76,
   "id": "8667505c",
   "metadata": {},
   "outputs": [
    {
     "data": {
      "text/plain": [
       "839"
      ]
     },
     "execution_count": 76,
     "metadata": {},
     "output_type": "execute_result"
    }
   ],
   "source": [
    "prot.prot_weight_calculation()"
   ]
  }
 ],
 "metadata": {
  "kernelspec": {
   "display_name": "Python 3 (ipykernel)",
   "language": "python",
   "name": "python3"
  },
  "language_info": {
   "codemirror_mode": {
    "name": "ipython",
    "version": 3
   },
   "file_extension": ".py",
   "mimetype": "text/x-python",
   "name": "python",
   "nbconvert_exporter": "python",
   "pygments_lexer": "ipython3",
   "version": "3.9.5"
  }
 },
 "nbformat": 4,
 "nbformat_minor": 5
}
